{
 "cells": [
  {
   "cell_type": "code",
   "execution_count": 1,
   "id": "06f73f70",
   "metadata": {},
   "outputs": [],
   "source": [
    "import requests"
   ]
  },
  {
   "cell_type": "code",
   "execution_count": 4,
   "id": "d5dc7763",
   "metadata": {},
   "outputs": [],
   "source": [
    "res = requests.get(\"https://anime-facts-rest-api.herokuapp.com/api/v1\")"
   ]
  },
  {
   "cell_type": "code",
   "execution_count": 19,
   "id": "4e828cf1",
   "metadata": {},
   "outputs": [],
   "source": [
    "dic = res.json()\n",
    "dic = dic[\"data\"]\n",
    "names = []\n",
    "for elem in dic:\n",
    "     names.append(elem[\"anime_name\"])\n"
   ]
  },
  {
   "cell_type": "code",
   "execution_count": 23,
   "id": "10fd7fe0",
   "metadata": {},
   "outputs": [],
   "source": [
    "bleach = names[0]\n",
    "url = f\"https://anime-facts-rest-api.herokuapp.com/api/v1/{bleach}/{1}\"  "
   ]
  },
  {
   "cell_type": "code",
   "execution_count": 28,
   "id": "f93fe837",
   "metadata": {},
   "outputs": [],
   "source": [
    "fact = requests.get(url).json()[\"data\"][\"fact\"]"
   ]
  },
  {
   "cell_type": "code",
   "execution_count": 29,
   "id": "2900b78c",
   "metadata": {},
   "outputs": [
    {
     "data": {
      "text/plain": [
       "'Ichigo wasnt the first character that Kubo created. It was Rukia. Kubo felt like drawing a shinigami wearing a kimono, thus, Rukia was created.'"
      ]
     },
     "execution_count": 29,
     "metadata": {},
     "output_type": "execute_result"
    }
   ],
   "source": [
    "fact"
   ]
  },
  {
   "cell_type": "code",
   "execution_count": null,
   "id": "d9484071",
   "metadata": {},
   "outputs": [],
   "source": []
  }
 ],
 "metadata": {
  "kernelspec": {
   "display_name": "Python 3 (ipykernel)",
   "language": "python",
   "name": "python3"
  },
  "language_info": {
   "codemirror_mode": {
    "name": "ipython",
    "version": 3
   },
   "file_extension": ".py",
   "mimetype": "text/x-python",
   "name": "python",
   "nbconvert_exporter": "python",
   "pygments_lexer": "ipython3",
   "version": "3.10.1"
  }
 },
 "nbformat": 4,
 "nbformat_minor": 5
}
