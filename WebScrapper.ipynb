{
 "cells": [
  {
   "cell_type": "code",
   "execution_count": 1,
   "id": "eb4b42cd",
   "metadata": {},
   "outputs": [],
   "source": [
    "import requests\n",
    "from bs4 import BeautifulSoup"
   ]
  },
  {
   "cell_type": "code",
   "execution_count": 25,
   "id": "657782a7",
   "metadata": {},
   "outputs": [],
   "source": [
    "TBIURL = \"https://gee.bccr.fi.cr/indicadoreseconomicos/cuadros/frmvercatcuadro.aspx?idioma=1&codcuadro=%2017\""
   ]
  },
  {
   "cell_type": "code",
   "execution_count": 26,
   "id": "96bad46f",
   "metadata": {},
   "outputs": [],
   "source": [
    "def webScrapper(url,selector):\n",
    "    res = requests.get(url)\n",
    "    html = BeautifulSoup(res.text)\n",
    "    table =  html.select(selector)\n",
    "    return table"
   ]
  },
  {
   "cell_type": "code",
   "execution_count": 27,
   "id": "5a3c4459",
   "metadata": {},
   "outputs": [],
   "source": [
    "table = webScrapper(TBIURL,\"td.celda17>p\")\n"
   ]
  },
  {
   "cell_type": "code",
   "execution_count": 5,
   "id": "2f5de97f",
   "metadata": {},
   "outputs": [],
   "source": [
    "\n",
    "def separadorColumnasYDatos(table):\n",
    "    columns = []\n",
    "    data = []\n",
    "    for elem in table:\n",
    "        try:\n",
    "            if int(elem.get_text()) > 2000:\n",
    "                columns.append(elem.get_text())\n",
    "        except:\n",
    "            data.append(elem.get_text().replace(\",\",\".\"))\n",
    "    return columns, data"
   ]
  },
  {
   "cell_type": "code",
   "execution_count": 6,
   "id": "2a7367c3",
   "metadata": {},
   "outputs": [],
   "source": [
    "columns, data = separadorColumnasYDatos(table)"
   ]
  },
  {
   "cell_type": "code",
   "execution_count": 7,
   "id": "4c0411f5",
   "metadata": {
    "scrolled": true
   },
   "outputs": [],
   "source": [
    "def separadorData(datos):\n",
    "    data = []\n",
    "    index = []\n",
    "    for elem in datos:\n",
    "        try:\n",
    "            if float(elem) > 0:\n",
    "                data.append(elem)\n",
    "        except:\n",
    "            if elem != '':\n",
    "                index.append(elem)\n",
    "    return index, data"
   ]
  },
  {
   "cell_type": "code",
   "execution_count": 8,
   "id": "e288cc36",
   "metadata": {},
   "outputs": [],
   "source": [
    "index, data = separadorData(data)"
   ]
  },
  {
   "cell_type": "code",
   "execution_count": 11,
   "id": "f70cf59a",
   "metadata": {},
   "outputs": [
    {
     "data": {
      "text/plain": [
       "'4.80'"
      ]
     },
     "execution_count": 11,
     "metadata": {},
     "output_type": "execute_result"
    }
   ],
   "source": [
    "data.pop(59*12)"
   ]
  },
  {
   "cell_type": "code",
   "execution_count": 12,
   "id": "47a62db7",
   "metadata": {},
   "outputs": [
    {
     "data": {
      "text/plain": [
       "114"
      ]
     },
     "execution_count": 12,
     "metadata": {},
     "output_type": "execute_result"
    }
   ],
   "source": [
    "len(data[4018:])"
   ]
  },
  {
   "cell_type": "code",
   "execution_count": 13,
   "id": "5c0e0dcf",
   "metadata": {},
   "outputs": [],
   "source": [
    "def creacionMatriz(data):\n",
    "    matrix =  []\n",
    "    index = 11\n",
    "    while index < len(data):\n",
    "        if len(matrix) >= len(data[4018:])+3:\n",
    "            break\n",
    "        matrix.append(data[index])\n",
    "        index += 12\n",
    "    return matrix\n",
    "        "
   ]
  },
  {
   "cell_type": "code",
   "execution_count": 14,
   "id": "19e4c3a9",
   "metadata": {},
   "outputs": [
    {
     "data": {
      "text/plain": [
       "117"
      ]
     },
     "execution_count": 14,
     "metadata": {},
     "output_type": "execute_result"
    }
   ],
   "source": [
    "matrix = creacionMatriz(data)\n",
    "len(matrix)"
   ]
  },
  {
   "cell_type": "code",
   "execution_count": 15,
   "id": "bd225bf9",
   "metadata": {},
   "outputs": [],
   "source": [
    "import pandas as pd"
   ]
  },
  {
   "cell_type": "code",
   "execution_count": 16,
   "id": "2eef7362",
   "metadata": {},
   "outputs": [],
   "source": [
    "df = pd.DataFrame()"
   ]
  },
  {
   "cell_type": "code",
   "execution_count": 17,
   "id": "6accd215",
   "metadata": {},
   "outputs": [
    {
     "data": {
      "text/html": [
       "<div>\n",
       "<style scoped>\n",
       "    .dataframe tbody tr th:only-of-type {\n",
       "        vertical-align: middle;\n",
       "    }\n",
       "\n",
       "    .dataframe tbody tr th {\n",
       "        vertical-align: top;\n",
       "    }\n",
       "\n",
       "    .dataframe thead th {\n",
       "        text-align: right;\n",
       "    }\n",
       "</style>\n",
       "<table border=\"1\" class=\"dataframe\">\n",
       "  <thead>\n",
       "    <tr style=\"text-align: right;\">\n",
       "      <th></th>\n",
       "      <th>2022</th>\n",
       "    </tr>\n",
       "  </thead>\n",
       "  <tbody>\n",
       "    <tr>\n",
       "      <th>0</th>\n",
       "      <td>2.90</td>\n",
       "    </tr>\n",
       "    <tr>\n",
       "      <th>1</th>\n",
       "      <td>2.90</td>\n",
       "    </tr>\n",
       "    <tr>\n",
       "      <th>2</th>\n",
       "      <td>2.90</td>\n",
       "    </tr>\n",
       "    <tr>\n",
       "      <th>3</th>\n",
       "      <td>2.90</td>\n",
       "    </tr>\n",
       "    <tr>\n",
       "      <th>4</th>\n",
       "      <td>2.90</td>\n",
       "    </tr>\n",
       "    <tr>\n",
       "      <th>...</th>\n",
       "      <td>...</td>\n",
       "    </tr>\n",
       "    <tr>\n",
       "      <th>112</th>\n",
       "      <td>2.80</td>\n",
       "    </tr>\n",
       "    <tr>\n",
       "      <th>113</th>\n",
       "      <td>2.80</td>\n",
       "    </tr>\n",
       "    <tr>\n",
       "      <th>114</th>\n",
       "      <td>2.80</td>\n",
       "    </tr>\n",
       "    <tr>\n",
       "      <th>115</th>\n",
       "      <td>2.80</td>\n",
       "    </tr>\n",
       "    <tr>\n",
       "      <th>116</th>\n",
       "      <td>2.80</td>\n",
       "    </tr>\n",
       "  </tbody>\n",
       "</table>\n",
       "<p>117 rows × 1 columns</p>\n",
       "</div>"
      ],
      "text/plain": [
       "     2022\n",
       "0    2.90\n",
       "1    2.90\n",
       "2    2.90\n",
       "3    2.90\n",
       "4    2.90\n",
       "..    ...\n",
       "112  2.80\n",
       "113  2.80\n",
       "114  2.80\n",
       "115  2.80\n",
       "116  2.80\n",
       "\n",
       "[117 rows x 1 columns]"
      ]
     },
     "execution_count": 17,
     "metadata": {},
     "output_type": "execute_result"
    }
   ],
   "source": [
    "df[columns[-1]] = matrix\n",
    "df"
   ]
  },
  {
   "cell_type": "code",
   "execution_count": 18,
   "id": "c92710ff",
   "metadata": {
    "scrolled": true
   },
   "outputs": [
    {
     "data": {
      "text/plain": [
       "'\\xa029 Feb  '"
      ]
     },
     "execution_count": 18,
     "metadata": {},
     "output_type": "execute_result"
    }
   ],
   "source": [
    "index = index[:len(matrix)+1]\n",
    "index.pop(59)"
   ]
  },
  {
   "cell_type": "code",
   "execution_count": 19,
   "id": "ee753e52",
   "metadata": {},
   "outputs": [],
   "source": [
    "df[\"Fecha\"] = index"
   ]
  },
  {
   "cell_type": "code",
   "execution_count": 20,
   "id": "e321d54a",
   "metadata": {},
   "outputs": [],
   "source": [
    "df = df.set_index(\"Fecha\")"
   ]
  },
  {
   "cell_type": "code",
   "execution_count": 21,
   "id": "8e3a9be9",
   "metadata": {},
   "outputs": [
    {
     "data": {
      "text/html": [
       "<div>\n",
       "<style scoped>\n",
       "    .dataframe tbody tr th:only-of-type {\n",
       "        vertical-align: middle;\n",
       "    }\n",
       "\n",
       "    .dataframe tbody tr th {\n",
       "        vertical-align: top;\n",
       "    }\n",
       "\n",
       "    .dataframe thead th {\n",
       "        text-align: right;\n",
       "    }\n",
       "</style>\n",
       "<table border=\"1\" class=\"dataframe\">\n",
       "  <thead>\n",
       "    <tr style=\"text-align: right;\">\n",
       "      <th></th>\n",
       "      <th>2022</th>\n",
       "    </tr>\n",
       "    <tr>\n",
       "      <th>Fecha</th>\n",
       "      <th></th>\n",
       "    </tr>\n",
       "  </thead>\n",
       "  <tbody>\n",
       "    <tr>\n",
       "      <th>1 Ene</th>\n",
       "      <td>2.90</td>\n",
       "    </tr>\n",
       "    <tr>\n",
       "      <th>2 Ene</th>\n",
       "      <td>2.90</td>\n",
       "    </tr>\n",
       "    <tr>\n",
       "      <th>3 Ene</th>\n",
       "      <td>2.90</td>\n",
       "    </tr>\n",
       "    <tr>\n",
       "      <th>4 Ene</th>\n",
       "      <td>2.90</td>\n",
       "    </tr>\n",
       "    <tr>\n",
       "      <th>5 Ene</th>\n",
       "      <td>2.90</td>\n",
       "    </tr>\n",
       "    <tr>\n",
       "      <th>...</th>\n",
       "      <td>...</td>\n",
       "    </tr>\n",
       "    <tr>\n",
       "      <th>23 Abr</th>\n",
       "      <td>2.80</td>\n",
       "    </tr>\n",
       "    <tr>\n",
       "      <th>24 Abr</th>\n",
       "      <td>2.80</td>\n",
       "    </tr>\n",
       "    <tr>\n",
       "      <th>25 Abr</th>\n",
       "      <td>2.80</td>\n",
       "    </tr>\n",
       "    <tr>\n",
       "      <th>26 Abr</th>\n",
       "      <td>2.80</td>\n",
       "    </tr>\n",
       "    <tr>\n",
       "      <th>27 Abr</th>\n",
       "      <td>2.80</td>\n",
       "    </tr>\n",
       "  </tbody>\n",
       "</table>\n",
       "<p>117 rows × 1 columns</p>\n",
       "</div>"
      ],
      "text/plain": [
       "           2022\n",
       "Fecha          \n",
       " 1 Ene     2.90\n",
       " 2 Ene     2.90\n",
       " 3 Ene     2.90\n",
       " 4 Ene     2.90\n",
       " 5 Ene     2.90\n",
       "...         ...\n",
       " 23 Abr    2.80\n",
       " 24 Abr    2.80\n",
       " 25 Abr    2.80\n",
       " 26 Abr    2.80\n",
       " 27 Abr    2.80\n",
       "\n",
       "[117 rows x 1 columns]"
      ]
     },
     "execution_count": 21,
     "metadata": {},
     "output_type": "execute_result"
    }
   ],
   "source": [
    "df"
   ]
  },
  {
   "cell_type": "code",
   "execution_count": 28,
   "id": "4fc4340c",
   "metadata": {},
   "outputs": [],
   "source": [
    "URL = \"https://gee.bccr.fi.cr/indicadoreseconomicos/Cuadros/frmVerCatCuadro.aspx?idioma=1&CodCuadro=%203141\""
   ]
  },
  {
   "cell_type": "code",
   "execution_count": 29,
   "id": "a7543973",
   "metadata": {},
   "outputs": [],
   "source": [
    "table = webScrapper(URL,\"P\")"
   ]
  },
  {
   "cell_type": "code",
   "execution_count": 30,
   "id": "51233152",
   "metadata": {},
   "outputs": [],
   "source": [
    "columns, data = separadorColumnasYDatos(table)"
   ]
  },
  {
   "cell_type": "code",
   "execution_count": 31,
   "id": "32a8734e",
   "metadata": {},
   "outputs": [],
   "source": [
    "index, data = separadorData(data)"
   ]
  },
  {
   "cell_type": "code",
   "execution_count": 32,
   "id": "bbca3d27",
   "metadata": {},
   "outputs": [
    {
     "name": "stdout",
     "output_type": "stream",
     "text": [
      "359\n"
     ]
    }
   ],
   "source": [
    "# Encontramos el indice del 29 de febrero del 2020 \n",
    "counter = 5\n",
    "while counter < len(data):\n",
    "    if data[counter] == \"1.75\":\n",
    "        print(counter)\n",
    "        break\n",
    "    counter += 6\n",
    "\n"
   ]
  },
  {
   "cell_type": "code",
   "execution_count": 33,
   "id": "60ac0d6d",
   "metadata": {},
   "outputs": [
    {
     "data": {
      "text/plain": [
       "'2.45'"
      ]
     },
     "execution_count": 33,
     "metadata": {},
     "output_type": "execute_result"
    }
   ],
   "source": [
    "data.pop(359-5)"
   ]
  },
  {
   "cell_type": "code",
   "execution_count": 34,
   "id": "f754b501",
   "metadata": {},
   "outputs": [
    {
     "data": {
      "text/plain": [
       "2183"
      ]
     },
     "execution_count": 34,
     "metadata": {},
     "output_type": "execute_result"
    }
   ],
   "source": [
    "len(data)\n",
    "    "
   ]
  },
  {
   "cell_type": "code",
   "execution_count": 35,
   "id": "93688f04",
   "metadata": {},
   "outputs": [],
   "source": [
    "def creadornMatrizURL(data):\n",
    "    matrix =  []\n",
    "    index = len(columns)-2\n",
    "    while index < len(data):\n",
    "        if len(matrix) >= len(data[1825:])+1-126:\n",
    "            break\n",
    "        matrix.append(data[index])\n",
    "        index += len(columns)-1\n",
    "    return matrix"
   ]
  },
  {
   "cell_type": "code",
   "execution_count": 36,
   "id": "f2a07086",
   "metadata": {},
   "outputs": [],
   "source": [
    "matrix = creadornMatrizURL(data)"
   ]
  },
  {
   "cell_type": "code",
   "execution_count": 37,
   "id": "ee4b6c20",
   "metadata": {},
   "outputs": [
    {
     "data": {
      "text/plain": [
       "['1.40',\n",
       " '1.40',\n",
       " '1.40',\n",
       " '1.40',\n",
       " '1.40',\n",
       " '1.24',\n",
       " '1.24',\n",
       " '1.24',\n",
       " '1.24',\n",
       " '1.24',\n",
       " '1.24',\n",
       " '1.24',\n",
       " '1.37',\n",
       " '1.37',\n",
       " '1.37',\n",
       " '1.37',\n",
       " '1.37',\n",
       " '1.37',\n",
       " '1.37',\n",
       " '1.35',\n",
       " '1.35',\n",
       " '1.35',\n",
       " '1.35',\n",
       " '1.35',\n",
       " '1.35',\n",
       " '1.35',\n",
       " '1.50',\n",
       " '1.50',\n",
       " '1.50',\n",
       " '1.50',\n",
       " '1.50',\n",
       " '1.50',\n",
       " '1.50',\n",
       " '1.38',\n",
       " '1.38',\n",
       " '1.38',\n",
       " '1.38',\n",
       " '1.38',\n",
       " '1.38',\n",
       " '1.38',\n",
       " '1.44',\n",
       " '1.44',\n",
       " '1.44',\n",
       " '1.44',\n",
       " '1.44',\n",
       " '1.44',\n",
       " '1.44',\n",
       " '1.53',\n",
       " '1.53',\n",
       " '1.53',\n",
       " '1.53',\n",
       " '1.53',\n",
       " '1.53',\n",
       " '1.53',\n",
       " '1.57',\n",
       " '1.57',\n",
       " '1.57',\n",
       " '1.57',\n",
       " '1.57',\n",
       " '1.57',\n",
       " '1.57',\n",
       " '1.52',\n",
       " '1.52',\n",
       " '1.52',\n",
       " '1.52',\n",
       " '1.52',\n",
       " '1.52',\n",
       " '1.52',\n",
       " '1.42',\n",
       " '1.42',\n",
       " '1.42',\n",
       " '1.42',\n",
       " '1.42',\n",
       " '1.42',\n",
       " '1.42',\n",
       " '1.41',\n",
       " '1.41',\n",
       " '1.41',\n",
       " '1.41',\n",
       " '1.41',\n",
       " '1.41',\n",
       " '1.41',\n",
       " '1.45',\n",
       " '1.45',\n",
       " '1.45',\n",
       " '1.45',\n",
       " '1.45',\n",
       " '1.45',\n",
       " '1.45',\n",
       " '1.49',\n",
       " '1.49',\n",
       " '1.49',\n",
       " '1.49',\n",
       " '1.49',\n",
       " '1.49',\n",
       " '1.49',\n",
       " '1.33',\n",
       " '1.33',\n",
       " '1.33',\n",
       " '1.33',\n",
       " '1.33',\n",
       " '1.33',\n",
       " '1.33',\n",
       " '1.39',\n",
       " '1.39',\n",
       " '1.39',\n",
       " '1.39',\n",
       " '1.39',\n",
       " '1.39',\n",
       " '1.39',\n",
       " '1.29',\n",
       " '1.29',\n",
       " '1.29',\n",
       " '1.29',\n",
       " '1.29',\n",
       " '1.29',\n",
       " '1.29',\n",
       " '2.27',\n",
       " '2.35',\n",
       " '2.73',\n",
       " '2.08',\n",
       " '1.57',\n",
       " '1.93',\n",
       " '1.93',\n",
       " '1.93',\n",
       " '1.93',\n",
       " '1.93',\n",
       " '1.93',\n",
       " '1.93',\n",
       " '1.90',\n",
       " '1.90',\n",
       " '1.90',\n",
       " '1.90',\n",
       " '1.90',\n",
       " '1.90',\n",
       " '1.90',\n",
       " '1.89',\n",
       " '1.89',\n",
       " '1.89',\n",
       " '1.89',\n",
       " '1.89',\n",
       " '1.89',\n",
       " '1.89',\n",
       " '1.96',\n",
       " '1.96',\n",
       " '1.96',\n",
       " '1.96',\n",
       " '1.96',\n",
       " '1.96',\n",
       " '1.96',\n",
       " '2.06',\n",
       " '2.06',\n",
       " '2.06',\n",
       " '2.06',\n",
       " '2.06',\n",
       " '2.06',\n",
       " '2.06',\n",
       " '2.01',\n",
       " '2.01',\n",
       " '2.01',\n",
       " '2.01',\n",
       " '2.01',\n",
       " '2.01',\n",
       " '2.01',\n",
       " '1.95',\n",
       " '1.95',\n",
       " '1.95',\n",
       " '1.95',\n",
       " '1.95',\n",
       " '1.95',\n",
       " '1.95',\n",
       " '2.05',\n",
       " '2.05',\n",
       " '2.05',\n",
       " '2.05',\n",
       " '2.05',\n",
       " '2.05',\n",
       " '2.05',\n",
       " '2.18',\n",
       " '2.18',\n",
       " '2.18',\n",
       " '2.18',\n",
       " '2.18',\n",
       " '2.18',\n",
       " '2.18',\n",
       " '2.09',\n",
       " '2.09',\n",
       " '2.09',\n",
       " '2.09',\n",
       " '2.09',\n",
       " '2.09',\n",
       " '2.09',\n",
       " '1.97',\n",
       " '1.97',\n",
       " '1.97',\n",
       " '1.97',\n",
       " '1.97',\n",
       " '1.97',\n",
       " '1.97',\n",
       " '1.96',\n",
       " '1.96',\n",
       " '1.96',\n",
       " '1.96',\n",
       " '1.96',\n",
       " '1.96',\n",
       " '1.96',\n",
       " '2.04',\n",
       " '2.04',\n",
       " '2.04',\n",
       " '2.04',\n",
       " '2.04',\n",
       " '2.04',\n",
       " '2.04',\n",
       " '2.21',\n",
       " '2.21',\n",
       " '2.21',\n",
       " '2.21',\n",
       " '2.21',\n",
       " '2.21',\n",
       " '2.21',\n",
       " '2.01',\n",
       " '2.01',\n",
       " '2.01',\n",
       " '2.01',\n",
       " '2.01',\n",
       " '2.01',\n",
       " '2.01',\n",
       " '1.91',\n",
       " '1.91',\n",
       " '1.91',\n",
       " '1.91',\n",
       " '1.91',\n",
       " '1.91']"
      ]
     },
     "execution_count": 37,
     "metadata": {},
     "output_type": "execute_result"
    }
   ],
   "source": [
    "matrix"
   ]
  },
  {
   "cell_type": "code",
   "execution_count": null,
   "id": "7e8d2b6d",
   "metadata": {},
   "outputs": [],
   "source": []
  }
 ],
 "metadata": {
  "kernelspec": {
   "display_name": "Python 3 (ipykernel)",
   "language": "python",
   "name": "python3"
  },
  "language_info": {
   "codemirror_mode": {
    "name": "ipython",
    "version": 3
   },
   "file_extension": ".py",
   "mimetype": "text/x-python",
   "name": "python",
   "nbconvert_exporter": "python",
   "pygments_lexer": "ipython3",
   "version": "3.10.1"
  }
 },
 "nbformat": 4,
 "nbformat_minor": 5
}
