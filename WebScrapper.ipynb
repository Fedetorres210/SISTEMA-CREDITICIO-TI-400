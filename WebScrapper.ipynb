{
 "cells": [
  {
   "cell_type": "code",
   "execution_count": 1,
   "id": "eb4b42cd",
   "metadata": {},
   "outputs": [],
   "source": [
    "import requests\n",
    "from bs4 import BeautifulSoup"
   ]
  },
  {
   "cell_type": "code",
   "execution_count": 303,
   "id": "657782a7",
   "metadata": {},
   "outputs": [],
   "source": [
    "TBIURL = \"https://gee.bccr.fi.cr/indicadoreseconomicos/cuadros/frmvercatcuadro.aspx?idioma=1&codcuadro=%2017\"\n"
   ]
  },
  {
   "cell_type": "code",
   "execution_count": 304,
   "id": "96bad46f",
   "metadata": {},
   "outputs": [],
   "source": [
    "def webScrapper(url,selector):\n",
    "    res = requests.get(url)\n",
    "    html = BeautifulSoup(res.text)\n",
    "    table =  html.select(selector)\n",
    "    return table"
   ]
  },
  {
   "cell_type": "code",
   "execution_count": 306,
   "id": "5a3c4459",
   "metadata": {},
   "outputs": [],
   "source": [
    "table = webScrapper(TBIURL,\"td.celda17>p\")"
   ]
  },
  {
   "cell_type": "code",
   "execution_count": 329,
   "id": "2f5de97f",
   "metadata": {},
   "outputs": [],
   "source": [
    "\n",
    "def separadorColumnasYDatos(table):\n",
    "    columns = []\n",
    "    data = []\n",
    "    for elem in table:\n",
    "        try:\n",
    "            if int(elem.get_text()) > 2000:\n",
    "                columns.append(elem.get_text())\n",
    "        except:\n",
    "            data.append(elem.get_text().replace(\",\",\".\"))\n",
    "    return columns, data"
   ]
  },
  {
   "cell_type": "code",
   "execution_count": 332,
   "id": "2a7367c3",
   "metadata": {},
   "outputs": [],
   "source": [
    "columns, data = separadorColumnasYDatos(table)"
   ]
  },
  {
   "cell_type": "code",
   "execution_count": 335,
   "id": "4c0411f5",
   "metadata": {
    "scrolled": true
   },
   "outputs": [],
   "source": [
    "def separadorData(datos):\n",
    "    data = []\n",
    "    index = []\n",
    "    for elem in datos:\n",
    "        try:\n",
    "            if float(elem) > 0:\n",
    "                data.append(elem)\n",
    "        except:\n",
    "            if elem != '':\n",
    "                index.append(elem)\n",
    "    return index, data"
   ]
  },
  {
   "cell_type": "code",
   "execution_count": 337,
   "id": "e288cc36",
   "metadata": {},
   "outputs": [],
   "source": [
    "index, data = separadorData(data)"
   ]
  },
  {
   "cell_type": "code",
   "execution_count": 340,
   "id": "f70cf59a",
   "metadata": {},
   "outputs": [
    {
     "data": {
      "text/plain": [
       "'4.80'"
      ]
     },
     "execution_count": 340,
     "metadata": {},
     "output_type": "execute_result"
    }
   ],
   "source": [
    "data.pop(59*12)"
   ]
  },
  {
   "cell_type": "code",
   "execution_count": 341,
   "id": "5c0e0dcf",
   "metadata": {},
   "outputs": [],
   "source": [
    "def creacionMatriz(data):\n",
    "    matrix =  []\n",
    "    index = 11\n",
    "    while index < len(data):\n",
    "        if len(matrix) >= len(data[4018:])+3:\n",
    "            break\n",
    "        matrix.append(data[index])\n",
    "        index += 12\n",
    "    return matrix\n",
    "        "
   ]
  },
  {
   "cell_type": "code",
   "execution_count": 343,
   "id": "19e4c3a9",
   "metadata": {},
   "outputs": [],
   "source": [
    "matrix = creacionMatriz(data)"
   ]
  },
  {
   "cell_type": "code",
   "execution_count": 344,
   "id": "bd225bf9",
   "metadata": {},
   "outputs": [],
   "source": [
    "import pandas as pd"
   ]
  },
  {
   "cell_type": "code",
   "execution_count": 345,
   "id": "2eef7362",
   "metadata": {},
   "outputs": [],
   "source": [
    "df = pd.DataFrame()"
   ]
  },
  {
   "cell_type": "code",
   "execution_count": 346,
   "id": "6accd215",
   "metadata": {},
   "outputs": [],
   "source": [
    "df[columns[-1]] = matrix"
   ]
  },
  {
   "cell_type": "code",
   "execution_count": 347,
   "id": "c92710ff",
   "metadata": {
    "scrolled": true
   },
   "outputs": [
    {
     "data": {
      "text/plain": [
       "'\\xa029 Feb  '"
      ]
     },
     "execution_count": 347,
     "metadata": {},
     "output_type": "execute_result"
    }
   ],
   "source": [
    "index = index1[:len(matrix)+1]\n",
    "index.pop(59)"
   ]
  },
  {
   "cell_type": "code",
   "execution_count": 348,
   "id": "ee753e52",
   "metadata": {},
   "outputs": [],
   "source": [
    "df[\"Fecha\"] = index"
   ]
  },
  {
   "cell_type": "code",
   "execution_count": 349,
   "id": "e321d54a",
   "metadata": {},
   "outputs": [],
   "source": [
    "df = df.set_index(\"Fecha\")"
   ]
  },
  {
   "cell_type": "code",
   "execution_count": 350,
   "id": "8e3a9be9",
   "metadata": {},
   "outputs": [
    {
     "data": {
      "text/html": [
       "<div>\n",
       "<style scoped>\n",
       "    .dataframe tbody tr th:only-of-type {\n",
       "        vertical-align: middle;\n",
       "    }\n",
       "\n",
       "    .dataframe tbody tr th {\n",
       "        vertical-align: top;\n",
       "    }\n",
       "\n",
       "    .dataframe thead th {\n",
       "        text-align: right;\n",
       "    }\n",
       "</style>\n",
       "<table border=\"1\" class=\"dataframe\">\n",
       "  <thead>\n",
       "    <tr style=\"text-align: right;\">\n",
       "      <th></th>\n",
       "      <th>2022</th>\n",
       "    </tr>\n",
       "    <tr>\n",
       "      <th>Fecha</th>\n",
       "      <th></th>\n",
       "    </tr>\n",
       "  </thead>\n",
       "  <tbody>\n",
       "    <tr>\n",
       "      <th>1 Ene</th>\n",
       "      <td>2.90</td>\n",
       "    </tr>\n",
       "    <tr>\n",
       "      <th>2 Ene</th>\n",
       "      <td>2.90</td>\n",
       "    </tr>\n",
       "    <tr>\n",
       "      <th>3 Ene</th>\n",
       "      <td>2.90</td>\n",
       "    </tr>\n",
       "    <tr>\n",
       "      <th>4 Ene</th>\n",
       "      <td>2.90</td>\n",
       "    </tr>\n",
       "    <tr>\n",
       "      <th>5 Ene</th>\n",
       "      <td>2.90</td>\n",
       "    </tr>\n",
       "    <tr>\n",
       "      <th>...</th>\n",
       "      <td>...</td>\n",
       "    </tr>\n",
       "    <tr>\n",
       "      <th>9 Abr</th>\n",
       "      <td>2.85</td>\n",
       "    </tr>\n",
       "    <tr>\n",
       "      <th>10 Abr</th>\n",
       "      <td>2.85</td>\n",
       "    </tr>\n",
       "    <tr>\n",
       "      <th>11 Abr</th>\n",
       "      <td>2.85</td>\n",
       "    </tr>\n",
       "    <tr>\n",
       "      <th>12 Abr</th>\n",
       "      <td>2.85</td>\n",
       "    </tr>\n",
       "    <tr>\n",
       "      <th>13 Abr</th>\n",
       "      <td>2.85</td>\n",
       "    </tr>\n",
       "  </tbody>\n",
       "</table>\n",
       "<p>103 rows × 1 columns</p>\n",
       "</div>"
      ],
      "text/plain": [
       "           2022\n",
       "Fecha          \n",
       " 1 Ene     2.90\n",
       " 2 Ene     2.90\n",
       " 3 Ene     2.90\n",
       " 4 Ene     2.90\n",
       " 5 Ene     2.90\n",
       "...         ...\n",
       " 9 Abr     2.85\n",
       " 10 Abr    2.85\n",
       " 11 Abr    2.85\n",
       " 12 Abr    2.85\n",
       " 13 Abr    2.85\n",
       "\n",
       "[103 rows x 1 columns]"
      ]
     },
     "execution_count": 350,
     "metadata": {},
     "output_type": "execute_result"
    }
   ],
   "source": [
    "df"
   ]
  },
  {
   "cell_type": "code",
   "execution_count": null,
   "id": "4fc4340c",
   "metadata": {},
   "outputs": [],
   "source": []
  },
  {
   "cell_type": "code",
   "execution_count": null,
   "id": "7347a193",
   "metadata": {},
   "outputs": [],
   "source": []
  }
 ],
 "metadata": {
  "kernelspec": {
   "display_name": "Python 3 (ipykernel)",
   "language": "python",
   "name": "python3"
  },
  "language_info": {
   "codemirror_mode": {
    "name": "ipython",
    "version": 3
   },
   "file_extension": ".py",
   "mimetype": "text/x-python",
   "name": "python",
   "nbconvert_exporter": "python",
   "pygments_lexer": "ipython3",
   "version": "3.10.1"
  }
 },
 "nbformat": 4,
 "nbformat_minor": 5
}
