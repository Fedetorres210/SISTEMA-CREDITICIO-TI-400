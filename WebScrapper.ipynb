{
 "cells": [
  {
   "cell_type": "code",
   "execution_count": 1,
   "id": "eb4b42cd",
   "metadata": {},
   "outputs": [],
   "source": [
    "import requests\n",
    "from bs4 import BeautifulSoup"
   ]
  },
  {
   "cell_type": "code",
   "execution_count": 2,
   "id": "657782a7",
   "metadata": {},
   "outputs": [],
   "source": [
    "TBIURL = \"https://gee.bccr.fi.cr/indicadoreseconomicos/cuadros/frmvercatcuadro.aspx?idioma=1&codcuadro=%2017\""
   ]
  },
  {
   "cell_type": "code",
   "execution_count": 3,
   "id": "96bad46f",
   "metadata": {},
   "outputs": [],
   "source": [
    "def webScrapper(url,selector):\n",
    "    res = requests.get(url)\n",
    "    html = BeautifulSoup(res.text)\n",
    "    table =  html.select(selector)\n",
    "    return table"
   ]
  },
  {
   "cell_type": "code",
   "execution_count": 4,
   "id": "5a3c4459",
   "metadata": {},
   "outputs": [],
   "source": [
    "table = webScrapper(TBIURL,\"td.celda17>p\")\n"
   ]
  },
  {
   "cell_type": "code",
   "execution_count": 5,
   "id": "2f5de97f",
   "metadata": {},
   "outputs": [],
   "source": [
    "\n",
    "def separadorColumnasYDatos(table):\n",
    "    columns = []\n",
    "    data = []\n",
    "    for elem in table:\n",
    "        try:\n",
    "            if int(elem.get_text()) > 2000:\n",
    "                columns.append(elem.get_text())\n",
    "        except:\n",
    "            data.append(elem.get_text().replace(\",\",\".\"))\n",
    "    return columns, data"
   ]
  },
  {
   "cell_type": "code",
   "execution_count": 6,
   "id": "2a7367c3",
   "metadata": {},
   "outputs": [],
   "source": [
    "columns, data = separadorColumnasYDatos(table)"
   ]
  },
  {
   "cell_type": "code",
   "execution_count": 7,
   "id": "4c0411f5",
   "metadata": {
    "scrolled": true
   },
   "outputs": [],
   "source": [
    "def separadorData(datos):\n",
    "    data = []\n",
    "    index = []\n",
    "    for elem in datos:\n",
    "        try:\n",
    "            if float(elem) > 0:\n",
    "                data.append(elem)\n",
    "        except:\n",
    "            if elem != '':\n",
    "                index.append(elem)\n",
    "    return index, data"
   ]
  },
  {
   "cell_type": "code",
   "execution_count": 8,
   "id": "e288cc36",
   "metadata": {},
   "outputs": [],
   "source": [
    "index, data = separadorData(data)"
   ]
  },
  {
   "cell_type": "code",
   "execution_count": 12,
   "id": "f70cf59a",
   "metadata": {},
   "outputs": [
    {
     "data": {
      "text/plain": [
       "'4.80'"
      ]
     },
     "execution_count": 12,
     "metadata": {},
     "output_type": "execute_result"
    }
   ],
   "source": [
    "data.pop(59*12)"
   ]
  },
  {
   "cell_type": "code",
   "execution_count": 13,
   "id": "47a62db7",
   "metadata": {},
   "outputs": [
    {
     "data": {
      "text/plain": [
       "128"
      ]
     },
     "execution_count": 13,
     "metadata": {},
     "output_type": "execute_result"
    }
   ],
   "source": [
    "len(data[4018:])"
   ]
  },
  {
   "cell_type": "code",
   "execution_count": 14,
   "id": "5c0e0dcf",
   "metadata": {},
   "outputs": [],
   "source": [
    "def creacionMatriz(data):\n",
    "    matrix =  []\n",
    "    index = 11\n",
    "    while index < len(data):\n",
    "        if len(matrix) >= len(data[4018:])+3:\n",
    "            break\n",
    "        matrix.append(data[index])\n",
    "        index += 12\n",
    "    return matrix\n",
    "        "
   ]
  },
  {
   "cell_type": "code",
   "execution_count": 15,
   "id": "19e4c3a9",
   "metadata": {},
   "outputs": [
    {
     "data": {
      "text/plain": [
       "131"
      ]
     },
     "execution_count": 15,
     "metadata": {},
     "output_type": "execute_result"
    }
   ],
   "source": [
    "matrix = creacionMatriz(data)\n",
    "len(matrix)"
   ]
  },
  {
   "cell_type": "code",
   "execution_count": 16,
   "id": "bd225bf9",
   "metadata": {},
   "outputs": [],
   "source": [
    "import pandas as pd"
   ]
  },
  {
   "cell_type": "code",
   "execution_count": 17,
   "id": "2eef7362",
   "metadata": {},
   "outputs": [],
   "source": [
    "df = pd.DataFrame()"
   ]
  },
  {
   "cell_type": "code",
   "execution_count": 18,
   "id": "6accd215",
   "metadata": {},
   "outputs": [
    {
     "data": {
      "text/html": [
       "<div>\n",
       "<style scoped>\n",
       "    .dataframe tbody tr th:only-of-type {\n",
       "        vertical-align: middle;\n",
       "    }\n",
       "\n",
       "    .dataframe tbody tr th {\n",
       "        vertical-align: top;\n",
       "    }\n",
       "\n",
       "    .dataframe thead th {\n",
       "        text-align: right;\n",
       "    }\n",
       "</style>\n",
       "<table border=\"1\" class=\"dataframe\">\n",
       "  <thead>\n",
       "    <tr style=\"text-align: right;\">\n",
       "      <th></th>\n",
       "      <th>2022</th>\n",
       "    </tr>\n",
       "  </thead>\n",
       "  <tbody>\n",
       "    <tr>\n",
       "      <th>0</th>\n",
       "      <td>2.90</td>\n",
       "    </tr>\n",
       "    <tr>\n",
       "      <th>1</th>\n",
       "      <td>2.90</td>\n",
       "    </tr>\n",
       "    <tr>\n",
       "      <th>2</th>\n",
       "      <td>2.90</td>\n",
       "    </tr>\n",
       "    <tr>\n",
       "      <th>3</th>\n",
       "      <td>2.90</td>\n",
       "    </tr>\n",
       "    <tr>\n",
       "      <th>4</th>\n",
       "      <td>2.90</td>\n",
       "    </tr>\n",
       "    <tr>\n",
       "      <th>...</th>\n",
       "      <td>...</td>\n",
       "    </tr>\n",
       "    <tr>\n",
       "      <th>126</th>\n",
       "      <td>2.90</td>\n",
       "    </tr>\n",
       "    <tr>\n",
       "      <th>127</th>\n",
       "      <td>2.90</td>\n",
       "    </tr>\n",
       "    <tr>\n",
       "      <th>128</th>\n",
       "      <td>2.90</td>\n",
       "    </tr>\n",
       "    <tr>\n",
       "      <th>129</th>\n",
       "      <td>2.90</td>\n",
       "    </tr>\n",
       "    <tr>\n",
       "      <th>130</th>\n",
       "      <td>2.90</td>\n",
       "    </tr>\n",
       "  </tbody>\n",
       "</table>\n",
       "<p>131 rows × 1 columns</p>\n",
       "</div>"
      ],
      "text/plain": [
       "     2022\n",
       "0    2.90\n",
       "1    2.90\n",
       "2    2.90\n",
       "3    2.90\n",
       "4    2.90\n",
       "..    ...\n",
       "126  2.90\n",
       "127  2.90\n",
       "128  2.90\n",
       "129  2.90\n",
       "130  2.90\n",
       "\n",
       "[131 rows x 1 columns]"
      ]
     },
     "execution_count": 18,
     "metadata": {},
     "output_type": "execute_result"
    }
   ],
   "source": [
    "df[columns[-1]] = matrix\n",
    "df"
   ]
  },
  {
   "cell_type": "code",
   "execution_count": 19,
   "id": "c92710ff",
   "metadata": {
    "scrolled": true
   },
   "outputs": [
    {
     "data": {
      "text/plain": [
       "'\\xa029 Feb  '"
      ]
     },
     "execution_count": 19,
     "metadata": {},
     "output_type": "execute_result"
    }
   ],
   "source": [
    "index = index[:len(matrix)+1]\n",
    "index.pop(59)"
   ]
  },
  {
   "cell_type": "code",
   "execution_count": 20,
   "id": "ee753e52",
   "metadata": {},
   "outputs": [],
   "source": [
    "df[\"Fecha\"] = index"
   ]
  },
  {
   "cell_type": "code",
   "execution_count": 21,
   "id": "e321d54a",
   "metadata": {},
   "outputs": [],
   "source": [
    "df = df.set_index(\"Fecha\")"
   ]
  },
  {
   "cell_type": "code",
   "execution_count": 22,
   "id": "8e3a9be9",
   "metadata": {},
   "outputs": [
    {
     "data": {
      "text/html": [
       "<div>\n",
       "<style scoped>\n",
       "    .dataframe tbody tr th:only-of-type {\n",
       "        vertical-align: middle;\n",
       "    }\n",
       "\n",
       "    .dataframe tbody tr th {\n",
       "        vertical-align: top;\n",
       "    }\n",
       "\n",
       "    .dataframe thead th {\n",
       "        text-align: right;\n",
       "    }\n",
       "</style>\n",
       "<table border=\"1\" class=\"dataframe\">\n",
       "  <thead>\n",
       "    <tr style=\"text-align: right;\">\n",
       "      <th></th>\n",
       "      <th>2022</th>\n",
       "    </tr>\n",
       "    <tr>\n",
       "      <th>Fecha</th>\n",
       "      <th></th>\n",
       "    </tr>\n",
       "  </thead>\n",
       "  <tbody>\n",
       "    <tr>\n",
       "      <th>1 Ene</th>\n",
       "      <td>2.90</td>\n",
       "    </tr>\n",
       "    <tr>\n",
       "      <th>2 Ene</th>\n",
       "      <td>2.90</td>\n",
       "    </tr>\n",
       "    <tr>\n",
       "      <th>3 Ene</th>\n",
       "      <td>2.90</td>\n",
       "    </tr>\n",
       "    <tr>\n",
       "      <th>4 Ene</th>\n",
       "      <td>2.90</td>\n",
       "    </tr>\n",
       "    <tr>\n",
       "      <th>5 Ene</th>\n",
       "      <td>2.90</td>\n",
       "    </tr>\n",
       "    <tr>\n",
       "      <th>...</th>\n",
       "      <td>...</td>\n",
       "    </tr>\n",
       "    <tr>\n",
       "      <th>7 May</th>\n",
       "      <td>2.90</td>\n",
       "    </tr>\n",
       "    <tr>\n",
       "      <th>8 May</th>\n",
       "      <td>2.90</td>\n",
       "    </tr>\n",
       "    <tr>\n",
       "      <th>9 May</th>\n",
       "      <td>2.90</td>\n",
       "    </tr>\n",
       "    <tr>\n",
       "      <th>10 May</th>\n",
       "      <td>2.90</td>\n",
       "    </tr>\n",
       "    <tr>\n",
       "      <th>11 May</th>\n",
       "      <td>2.90</td>\n",
       "    </tr>\n",
       "  </tbody>\n",
       "</table>\n",
       "<p>131 rows × 1 columns</p>\n",
       "</div>"
      ],
      "text/plain": [
       "           2022\n",
       "Fecha          \n",
       " 1 Ene     2.90\n",
       " 2 Ene     2.90\n",
       " 3 Ene     2.90\n",
       " 4 Ene     2.90\n",
       " 5 Ene     2.90\n",
       "...         ...\n",
       " 7 May     2.90\n",
       " 8 May     2.90\n",
       " 9 May     2.90\n",
       " 10 May    2.90\n",
       " 11 May    2.90\n",
       "\n",
       "[131 rows x 1 columns]"
      ]
     },
     "execution_count": 22,
     "metadata": {},
     "output_type": "execute_result"
    }
   ],
   "source": [
    "df"
   ]
  },
  {
   "cell_type": "code",
   "execution_count": 119,
   "id": "4fc4340c",
   "metadata": {},
   "outputs": [],
   "source": [
    "URL = \"https://gee.bccr.fi.cr/indicadoreseconomicos/Cuadros/frmVerCatCuadro.aspx?idioma=1&CodCuadro=%203141\""
   ]
  },
  {
   "cell_type": "code",
   "execution_count": 120,
   "id": "a7543973",
   "metadata": {},
   "outputs": [],
   "source": [
    "table = webScrapper(URL,\"P\")"
   ]
  },
  {
   "cell_type": "code",
   "execution_count": 121,
   "id": "51233152",
   "metadata": {},
   "outputs": [],
   "source": [
    "columns, data = separadorColumnasYDatos(table)"
   ]
  },
  {
   "cell_type": "code",
   "execution_count": 122,
   "id": "32a8734e",
   "metadata": {},
   "outputs": [],
   "source": [
    "index, data = separadorData(data)\n"
   ]
  },
  {
   "cell_type": "code",
   "execution_count": null,
   "id": "6fcecf18",
   "metadata": {},
   "outputs": [],
   "source": []
  },
  {
   "cell_type": "code",
   "execution_count": 123,
   "id": "bbca3d27",
   "metadata": {},
   "outputs": [
    {
     "name": "stdout",
     "output_type": "stream",
     "text": [
      "359\n"
     ]
    }
   ],
   "source": [
    "# Encontramos el indice del 29 de febrero del 2020 \n",
    "counter = 5\n",
    "while counter < len(data):\n",
    "    if data[counter] == \"1.75\":\n",
    "        print(counter)\n",
    "        break\n",
    "    counter += 6\n",
    "\n"
   ]
  },
  {
   "cell_type": "code",
   "execution_count": 124,
   "id": "60ac0d6d",
   "metadata": {},
   "outputs": [
    {
     "data": {
      "text/plain": [
       "'2.45'"
      ]
     },
     "execution_count": 124,
     "metadata": {},
     "output_type": "execute_result"
    }
   ],
   "source": [
    "data.pop(359-5)"
   ]
  },
  {
   "cell_type": "code",
   "execution_count": 125,
   "id": "f754b501",
   "metadata": {},
   "outputs": [
    {
     "data": {
      "text/plain": [
       "128"
      ]
     },
     "execution_count": 125,
     "metadata": {},
     "output_type": "execute_result"
    }
   ],
   "source": [
    "import datetime\n",
    "\n",
    "hoy = datetime.datetime.now()\n",
    "\n",
    "numero_dia = (hoy - datetime.datetime(hoy.year, 1, 1)).days + 1\n",
    "numero_dia"
   ]
  },
  {
   "cell_type": "code",
   "execution_count": 143,
   "id": "93688f04",
   "metadata": {},
   "outputs": [],
   "source": [
    "def creadornMatrizURL(data):\n",
    "    matrix =  []\n",
    "    index = len(columns)-2\n",
    "    hoy = datetime.datetime.now()\n",
    "    numero_dia = (hoy - datetime.datetime(hoy.year, 1, 1)).days + 1\n",
    "    while index < len(data):\n",
    "        if len(matrix) >= numero_dia:\n",
    "            break\n",
    "        if index >= 6*123:\n",
    "            matrix.append(data[index])\n",
    "            index += len(columns)\n",
    "        else:\n",
    "            matrix.append(data[index])\n",
    "            index += len(columns)-1\n",
    "    return matrix[-1]"
   ]
  },
  {
   "cell_type": "code",
   "execution_count": 144,
   "id": "f2a07086",
   "metadata": {},
   "outputs": [],
   "source": [
    "matrix = creadornMatrizURL(data)"
   ]
  },
  {
   "cell_type": "code",
   "execution_count": 145,
   "id": "ee4b6c20",
   "metadata": {},
   "outputs": [
    {
     "data": {
      "text/plain": [
       "'1.44'"
      ]
     },
     "execution_count": 145,
     "metadata": {},
     "output_type": "execute_result"
    }
   ],
   "source": [
    "matrix"
   ]
  },
  {
   "cell_type": "code",
   "execution_count": 129,
   "id": "2b002044",
   "metadata": {},
   "outputs": [],
   "source": [
    "index.pop(60)\n",
    "index = index[1:len(matrix)+1]"
   ]
  },
  {
   "cell_type": "code",
   "execution_count": 130,
   "id": "7e8d2b6d",
   "metadata": {},
   "outputs": [],
   "source": [
    "df = pd.DataFrame(matrix,index)"
   ]
  },
  {
   "cell_type": "code",
   "execution_count": 132,
   "id": "abfb6112",
   "metadata": {},
   "outputs": [
    {
     "data": {
      "text/html": [
       "<div>\n",
       "<style scoped>\n",
       "    .dataframe tbody tr th:only-of-type {\n",
       "        vertical-align: middle;\n",
       "    }\n",
       "\n",
       "    .dataframe tbody tr th {\n",
       "        vertical-align: top;\n",
       "    }\n",
       "\n",
       "    .dataframe thead th {\n",
       "        text-align: right;\n",
       "    }\n",
       "</style>\n",
       "<table border=\"1\" class=\"dataframe\">\n",
       "  <thead>\n",
       "    <tr style=\"text-align: right;\">\n",
       "      <th></th>\n",
       "      <th>0</th>\n",
       "    </tr>\n",
       "  </thead>\n",
       "  <tbody>\n",
       "    <tr>\n",
       "      <th>1 Ene</th>\n",
       "      <td>1.40</td>\n",
       "    </tr>\n",
       "    <tr>\n",
       "      <th>2 Ene</th>\n",
       "      <td>1.40</td>\n",
       "    </tr>\n",
       "    <tr>\n",
       "      <th>3 Ene</th>\n",
       "      <td>1.40</td>\n",
       "    </tr>\n",
       "    <tr>\n",
       "      <th>4 Ene</th>\n",
       "      <td>1.40</td>\n",
       "    </tr>\n",
       "    <tr>\n",
       "      <th>5 Ene</th>\n",
       "      <td>1.40</td>\n",
       "    </tr>\n",
       "    <tr>\n",
       "      <th>...</th>\n",
       "      <td>...</td>\n",
       "    </tr>\n",
       "    <tr>\n",
       "      <th>4 May</th>\n",
       "      <td>1.40</td>\n",
       "    </tr>\n",
       "    <tr>\n",
       "      <th>5 May</th>\n",
       "      <td>1.44</td>\n",
       "    </tr>\n",
       "    <tr>\n",
       "      <th>6 May</th>\n",
       "      <td>1.44</td>\n",
       "    </tr>\n",
       "    <tr>\n",
       "      <th>7 May</th>\n",
       "      <td>1.44</td>\n",
       "    </tr>\n",
       "    <tr>\n",
       "      <th>8 May</th>\n",
       "      <td>1.44</td>\n",
       "    </tr>\n",
       "  </tbody>\n",
       "</table>\n",
       "<p>128 rows × 1 columns</p>\n",
       "</div>"
      ],
      "text/plain": [
       "             0\n",
       " 1 Ene    1.40\n",
       " 2 Ene    1.40\n",
       " 3 Ene    1.40\n",
       " 4 Ene    1.40\n",
       " 5 Ene    1.40\n",
       "...        ...\n",
       " 4 May    1.40\n",
       " 5 May    1.44\n",
       " 6 May    1.44\n",
       " 7 May    1.44\n",
       " 8 May    1.44\n",
       "\n",
       "[128 rows x 1 columns]"
      ]
     },
     "execution_count": 132,
     "metadata": {},
     "output_type": "execute_result"
    }
   ],
   "source": [
    "df"
   ]
  }
 ],
 "metadata": {
  "kernelspec": {
   "display_name": "Python 3 (ipykernel)",
   "language": "python",
   "name": "python3"
  },
  "language_info": {
   "codemirror_mode": {
    "name": "ipython",
    "version": 3
   },
   "file_extension": ".py",
   "mimetype": "text/x-python",
   "name": "python",
   "nbconvert_exporter": "python",
   "pygments_lexer": "ipython3",
   "version": "3.10.1"
  }
 },
 "nbformat": 4,
 "nbformat_minor": 5
}
